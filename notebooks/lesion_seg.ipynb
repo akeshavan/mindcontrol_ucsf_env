{
 "cells": [
  {
   "cell_type": "code",
   "execution_count": 63,
   "metadata": {
    "collapsed": false
   },
   "outputs": [
    {
     "name": "stdout",
     "output_type": "stream",
     "text": [
      "Populating the interactive namespace from numpy and matplotlib\n"
     ]
    },
    {
     "name": "stderr",
     "output_type": "stream",
     "text": [
      "WARNING: pylab import has clobbered these variables: ['split']\n",
      "`%matplotlib` prevents importing * from pylab and numpy\n"
     ]
    }
   ],
   "source": [
    "%pylab inline\n",
    "import pandas as pd\n",
    "import nibabel as nib\n",
    "from pbr.config import config as cc\n",
    "from os.path import join, exists, split\n",
    "import nipype.pipeline.engine as pe\n",
    "from nipype.interfaces.slicer import SimpleRegionGrowingSegmentation\n",
    "import nipype.interfaces.utility as niu\n",
    "import nipype.interfaces.fsl as fsl\n",
    "import nipype.interfaces.ants as ants\n",
    "import nipype.interfaces.io as nio\n",
    "import itertools"
   ]
  },
  {
   "cell_type": "code",
   "execution_count": 32,
   "metadata": {
    "collapsed": true
   },
   "outputs": [],
   "source": [
    "from nipype.utils.filemanip import fname_presuffix"
   ]
  },
  {
   "cell_type": "code",
   "execution_count": 33,
   "metadata": {
    "collapsed": true
   },
   "outputs": [],
   "source": [
    "fname_presuffix?"
   ]
  },
  {
   "cell_type": "code",
   "execution_count": 105,
   "metadata": {
    "collapsed": true
   },
   "outputs": [],
   "source": [
    "def getSRGS(inputv, seeds, multiplier=1.0, \n",
    "            nbhd = 1, iterations=5, timestep = 0.0625,\n",
    "            smoothingiterations=5):\n",
    "    import os\n",
    "    from subprocess import check_call\n",
    "    from nipype.utils.filemanip import fname_presuffix\n",
    "    outputv = fname_presuffix(inputv, newpath=os.path.abspath(\".\"), suffix=\"_{}_{}_{}_{}_{}\".format(multiplier,\n",
    "                                                                                                   nbhd, iterations,\n",
    "                                                                                                   timestep, \n",
    "                                                                                                    smoothingiterations))\n",
    "    cmd = [\"SimpleRegionGrowingSegmentation\", inputv, \n",
    "           outputv, \"--multiplier\", str(multiplier),\n",
    "          \"--neighborhood\", str(nbhd),\n",
    "          \"--iterations\", str(iterations),\n",
    "          \"--timestep\", str(timestep),\n",
    "          \"--smoothingIterations\", str(smoothingiterations)]\n",
    "    cmd += [\"--seed\", \"{},{},{}\".format(s[0], s[1], s[2])]\n",
    "    check_call(cmd)\n",
    "    return ouptputv"
   ]
  },
  {
   "cell_type": "code",
   "execution_count": 106,
   "metadata": {
    "collapsed": true
   },
   "outputs": [],
   "source": [
    "df = pd.read_csv(\"/data/henry7/PBR/subjects/mse2441/mindcontrol/\\\n",
    "ms1244-mse2441-002-AX_T1_3D_IRSPGR/align/rois/ms1244-mse2441-002-AX_T1_3D_IRSPGR-veovibes.csv\",\n",
    "                index_col=0)"
   ]
  },
  {
   "cell_type": "markdown",
   "metadata": {},
   "source": [
    "--neighborhood <int>\n",
    "     The radius of the neighborhood over which to calculate intensity model\n",
    "     (default: 1)\n",
    "\n",
    "   --multiplier <double>\n",
    "     Number of standard deviations to include in intensity model (default:\n",
    "     2.5)\n",
    "\n",
    "   --iterations <int>\n",
    "     Number of iterations of region growing (default: 5)\n",
    "\n",
    "   --timestep <double>\n",
    "     Timestep for curvature flow (default: 0.0625)\n",
    "\n",
    "   --smoothingIterations <int>\n",
    "     Number of smoothing iterations (default: 5)\n"
   ]
  },
  {
   "cell_type": "code",
   "execution_count": 107,
   "metadata": {
    "collapsed": false
   },
   "outputs": [],
   "source": [
    "coords = [[row.x, row.y, row.z] for i, row in df.iterrows()]\n",
    "input_file = \"/data/henry7/PBR/subjects/mse2441/alignment/ms1244-mse2441-002-AX_T1_3D_IRSPGR.nii.gz\"\n",
    "output_file = \"/data/henry7/PBR/subjects/mse2441/lesion_grow/ms1244-mse2441-002-AX_T1_3D_IRSPGR.nii.gz\""
   ]
  },
  {
   "cell_type": "code",
   "execution_count": 108,
   "metadata": {
    "collapsed": false
   },
   "outputs": [],
   "source": [
    "multipliers = [1.4]#linspace(1,1.5,5)\n",
    "iterators = [5,20]\n",
    "nbhds = [1]#,2]\n",
    "timestep = [0.0625]#, 0.0625/2]\n",
    "smoothings = [5]#,20]"
   ]
  },
  {
   "cell_type": "code",
   "execution_count": null,
   "metadata": {
    "collapsed": false
   },
   "outputs": [],
   "source": []
  },
  {
   "cell_type": "code",
   "execution_count": 109,
   "metadata": {
    "collapsed": false
   },
   "outputs": [
    {
     "data": {
      "text/html": [
       "<div>\n",
       "<table border=\"1\" class=\"dataframe\">\n",
       "  <thead>\n",
       "    <tr style=\"text-align: right;\">\n",
       "      <th></th>\n",
       "      <th>multiplier</th>\n",
       "      <th>iterations</th>\n",
       "      <th>nbhd</th>\n",
       "      <th>timestep</th>\n",
       "      <th>smoothingiterations</th>\n",
       "    </tr>\n",
       "  </thead>\n",
       "  <tbody>\n",
       "    <tr>\n",
       "      <th>0</th>\n",
       "      <td>1.4</td>\n",
       "      <td>5</td>\n",
       "      <td>1</td>\n",
       "      <td>0.0625</td>\n",
       "      <td>5</td>\n",
       "    </tr>\n",
       "    <tr>\n",
       "      <th>1</th>\n",
       "      <td>1.4</td>\n",
       "      <td>20</td>\n",
       "      <td>1</td>\n",
       "      <td>0.0625</td>\n",
       "      <td>5</td>\n",
       "    </tr>\n",
       "  </tbody>\n",
       "</table>\n",
       "</div>"
      ],
      "text/plain": [
       "   multiplier  iterations  nbhd  timestep  smoothingiterations\n",
       "0         1.4           5     1    0.0625                    5\n",
       "1         1.4          20     1    0.0625                    5"
      ]
     },
     "execution_count": 109,
     "metadata": {},
     "output_type": "execute_result"
    }
   ],
   "source": [
    "data = [q for q in itertools.product(multipliers, iterators, nbhds, timestep, smoothings)]\n",
    "parameters = pd.DataFrame(data, columns = [\"multiplier\", \"iterations\", \"nbhd\", \"timestep\", \"smoothingiterations\"])\n",
    "parameters.head()"
   ]
  },
  {
   "cell_type": "code",
   "execution_count": 110,
   "metadata": {
    "collapsed": false
   },
   "outputs": [
    {
     "data": {
      "text/plain": [
       "(2, 5)"
      ]
     },
     "execution_count": 110,
     "metadata": {},
     "output_type": "execute_result"
    }
   ],
   "source": [
    "parameters.shape"
   ]
  },
  {
   "cell_type": "code",
   "execution_count": 111,
   "metadata": {
    "collapsed": false
   },
   "outputs": [],
   "source": [
    "def get_workflow(parameters):\n",
    "    wf = pe.Workflow(name=\"regionGrowing\")\n",
    "    wf.base_dir = \"/scratch/henry_temp/keshavan/region_growing_test\"\n",
    "    n = pe.Node(niu.Function(input_names=[\"inputv\", \"seeds\", \"multiplier\", \n",
    "                \"nbhd\", \"iterations\", \"timestep\",\n",
    "                \"smoothingiterations\"], output_names=[\"outfile\"],\n",
    "                            function=getSRGS),\n",
    "               name=\"srgs\")\n",
    "    inputspec = pe.Node(niu.IdentityInterface(fields=[\"seeds\", \"in_file\"]), name=\"inputspec\")\n",
    "    n.iterables = [(q, parameters[q].tolist()) for q in [\"multiplier\", \n",
    "                \"nbhd\", \"iterations\", \"timestep\",\n",
    "                \"smoothingiterations\"]]\n",
    "    wf.connect(inputspec, \"seeds\", n, \"seeds\")\n",
    "    wf.connect(inputspec, \"in_file\", n, \"inputv\")\n",
    "\n",
    "    dt = pe.Node(fsl.ChangeDataType(output_datatype=\"short\"), name=\"changedt\")\n",
    "    wf.connect(n,\"outfile\", dt, \"in_file\")\n",
    "\n",
    "    stats = pe.Node(fsl.ImageStats(args=\"-c\"), name=\"stats\")\n",
    "    wf.connect(dt, \"out_file\", stats, \"in_file\")\n",
    "\n",
    "    avg = pe.JoinNode(ants.AverageImages(dimension=3), \n",
    "                      name=\"average\",\n",
    "                     joinsource=\"changedt\",\n",
    "                     joinfield=[\"images\"])\n",
    "    wf.connect(dt, \"out_file\", avg, \"images\")\n",
    "    outputspec = pe.Node(niu.IdentityInterface(fields=[\"avg_image\"]), name=\"outputspec\")\n",
    "    return wf, inputspec, outputspec"
   ]
  },
  {
   "cell_type": "code",
   "execution_count": 112,
   "metadata": {
    "collapsed": false
   },
   "outputs": [],
   "source": [
    "mwf = pe.Workflow(name=\"region_growing_meta\")\n",
    "mwf.base_dir = \"/scratch/henry_temp/keshavan/region_growing_test\"\n",
    "for c in coords:\n",
    "    wf, inp, out = get_workflow(parameters)\n",
    "    inp.inputs.in_file = input_file\n",
    "    inp.inputs.seeds = c\n",
    "    mwf.add_nodes([wf])\n",
    "    break"
   ]
  },
  {
   "cell_type": "code",
   "execution_count": 113,
   "metadata": {
    "collapsed": false
   },
   "outputs": [],
   "source": [
    "mwf.write_graph()"
   ]
  },
  {
   "cell_type": "code",
   "execution_count": 114,
   "metadata": {
    "collapsed": false
   },
   "outputs": [
    {
     "data": {
      "image/png": "[encoded data removed]",
      "text/plain": [
       "<IPython.core.display.Image object>"
      ]
     },
     "execution_count": 114,
     "metadata": {},
     "output_type": "execute_result"
    }
   ],
   "source": [
    "from IPython.display import Image\n",
    "Image(\"/scratch/henry_temp/keshavan/region_growing_test/region_growing_meta/graph.dot.png\")"
   ]
  },
  {
   "cell_type": "code",
   "execution_count": 115,
   "metadata": {
    "collapsed": false
   },
   "outputs": [
    {
     "ename": "RuntimeError",
     "evalue": "Workflow did not execute cleanly. Check log for details",
     "output_type": "error",
     "traceback": [
      "\u001b[1;31m---------------------------------------------------------------------------\u001b[0m",
      "\u001b[1;31mRuntimeError\u001b[0m                              Traceback (most recent call last)",
      "\u001b[1;32m<ipython-input-115-8939771863d4>\u001b[0m in \u001b[0;36m<module>\u001b[1;34m()\u001b[0m\n\u001b[1;32m----> 1\u001b[1;33m \u001b[0mmwf\u001b[0m\u001b[1;33m.\u001b[0m\u001b[0mrun\u001b[0m\u001b[1;33m(\u001b[0m\u001b[1;33m)\u001b[0m\u001b[1;33m\u001b[0m\u001b[0m\n\u001b[0m",
      "\u001b[1;32m/data/henry1/keshavan/anaconda/envs/ak3/lib/python3.5/site-packages/nipype-0.12.0rc1-py3.5.egg/nipype/pipeline/engine/workflows.py\u001b[0m in \u001b[0;36mrun\u001b[1;34m(self, plugin, plugin_args, updatehash)\u001b[0m\n\u001b[0;32m    593\u001b[0m         \u001b[1;32mif\u001b[0m \u001b[0mstr2bool\u001b[0m\u001b[1;33m(\u001b[0m\u001b[0mself\u001b[0m\u001b[1;33m.\u001b[0m\u001b[0mconfig\u001b[0m\u001b[1;33m[\u001b[0m\u001b[1;34m'execution'\u001b[0m\u001b[1;33m]\u001b[0m\u001b[1;33m[\u001b[0m\u001b[1;34m'create_report'\u001b[0m\u001b[1;33m]\u001b[0m\u001b[1;33m)\u001b[0m\u001b[1;33m:\u001b[0m\u001b[1;33m\u001b[0m\u001b[0m\n\u001b[0;32m    594\u001b[0m             \u001b[0mself\u001b[0m\u001b[1;33m.\u001b[0m\u001b[0m_write_report_info\u001b[0m\u001b[1;33m(\u001b[0m\u001b[0mself\u001b[0m\u001b[1;33m.\u001b[0m\u001b[0mbase_dir\u001b[0m\u001b[1;33m,\u001b[0m \u001b[0mself\u001b[0m\u001b[1;33m.\u001b[0m\u001b[0mname\u001b[0m\u001b[1;33m,\u001b[0m \u001b[0mexecgraph\u001b[0m\u001b[1;33m)\u001b[0m\u001b[1;33m\u001b[0m\u001b[0m\n\u001b[1;32m--> 595\u001b[1;33m         \u001b[0mrunner\u001b[0m\u001b[1;33m.\u001b[0m\u001b[0mrun\u001b[0m\u001b[1;33m(\u001b[0m\u001b[0mexecgraph\u001b[0m\u001b[1;33m,\u001b[0m \u001b[0mupdatehash\u001b[0m\u001b[1;33m=\u001b[0m\u001b[0mupdatehash\u001b[0m\u001b[1;33m,\u001b[0m \u001b[0mconfig\u001b[0m\u001b[1;33m=\u001b[0m\u001b[0mself\u001b[0m\u001b[1;33m.\u001b[0m\u001b[0mconfig\u001b[0m\u001b[1;33m)\u001b[0m\u001b[1;33m\u001b[0m\u001b[0m\n\u001b[0m\u001b[0;32m    596\u001b[0m         \u001b[0mdatestr\u001b[0m \u001b[1;33m=\u001b[0m \u001b[0mdatetime\u001b[0m\u001b[1;33m.\u001b[0m\u001b[0mutcnow\u001b[0m\u001b[1;33m(\u001b[0m\u001b[1;33m)\u001b[0m\u001b[1;33m.\u001b[0m\u001b[0mstrftime\u001b[0m\u001b[1;33m(\u001b[0m\u001b[1;34m'%Y%m%dT%H%M%S'\u001b[0m\u001b[1;33m)\u001b[0m\u001b[1;33m\u001b[0m\u001b[0m\n\u001b[0;32m    597\u001b[0m         \u001b[1;32mif\u001b[0m \u001b[0mstr2bool\u001b[0m\u001b[1;33m(\u001b[0m\u001b[0mself\u001b[0m\u001b[1;33m.\u001b[0m\u001b[0mconfig\u001b[0m\u001b[1;33m[\u001b[0m\u001b[1;34m'execution'\u001b[0m\u001b[1;33m]\u001b[0m\u001b[1;33m[\u001b[0m\u001b[1;34m'write_provenance'\u001b[0m\u001b[1;33m]\u001b[0m\u001b[1;33m)\u001b[0m\u001b[1;33m:\u001b[0m\u001b[1;33m\u001b[0m\u001b[0m\n",
      "\u001b[1;32m/data/henry1/keshavan/anaconda/envs/ak3/lib/python3.5/site-packages/nipype-0.12.0rc1-py3.5.egg/nipype/pipeline/plugins/linear.py\u001b[0m in \u001b[0;36mrun\u001b[1;34m(self, graph, config, updatehash)\u001b[0m\n\u001b[0;32m     55\u001b[0m                 \u001b[1;32mif\u001b[0m \u001b[0mself\u001b[0m\u001b[1;33m.\u001b[0m\u001b[0m_status_callback\u001b[0m\u001b[1;33m:\u001b[0m\u001b[1;33m\u001b[0m\u001b[0m\n\u001b[0;32m     56\u001b[0m                     \u001b[0mself\u001b[0m\u001b[1;33m.\u001b[0m\u001b[0m_status_callback\u001b[0m\u001b[1;33m(\u001b[0m\u001b[0mnode\u001b[0m\u001b[1;33m,\u001b[0m \u001b[1;34m'exception'\u001b[0m\u001b[1;33m)\u001b[0m\u001b[1;33m\u001b[0m\u001b[0m\n\u001b[1;32m---> 57\u001b[1;33m         \u001b[0mreport_nodes_not_run\u001b[0m\u001b[1;33m(\u001b[0m\u001b[0mnotrun\u001b[0m\u001b[1;33m)\u001b[0m\u001b[1;33m\u001b[0m\u001b[0m\n\u001b[0m",
      "\u001b[1;32m/data/henry1/keshavan/anaconda/envs/ak3/lib/python3.5/site-packages/nipype-0.12.0rc1-py3.5.egg/nipype/pipeline/plugins/base.py\u001b[0m in \u001b[0;36mreport_nodes_not_run\u001b[1;34m(notrun)\u001b[0m\n\u001b[0;32m     91\u001b[0m                 \u001b[0mlogger\u001b[0m\u001b[1;33m.\u001b[0m\u001b[0mdebug\u001b[0m\u001b[1;33m(\u001b[0m\u001b[0msubnode\u001b[0m\u001b[1;33m.\u001b[0m\u001b[0m_id\u001b[0m\u001b[1;33m)\u001b[0m\u001b[1;33m\u001b[0m\u001b[0m\n\u001b[0;32m     92\u001b[0m         \u001b[0mlogger\u001b[0m\u001b[1;33m.\u001b[0m\u001b[0minfo\u001b[0m\u001b[1;33m(\u001b[0m\u001b[1;34m\"***********************************\"\u001b[0m\u001b[1;33m)\u001b[0m\u001b[1;33m\u001b[0m\u001b[0m\n\u001b[1;32m---> 93\u001b[1;33m         raise RuntimeError(('Workflow did not execute cleanly. '\n\u001b[0m\u001b[0;32m     94\u001b[0m                             'Check log for details'))\n\u001b[0;32m     95\u001b[0m \u001b[1;33m\u001b[0m\u001b[0m\n",
      "\u001b[1;31mRuntimeError\u001b[0m: Workflow did not execute cleanly. Check log for details"
     ]
    }
   ],
   "source": [
    "mwf.run()"
   ]
  },
  {
   "cell_type": "code",
   "execution_count": null,
   "metadata": {
    "collapsed": true
   },
   "outputs": [],
   "source": []
  }
 ],
 "metadata": {
  "kernelspec": {
   "display_name": "Python 3",
   "language": "python",
   "name": "python3"
  },
  "language_info": {
   "codemirror_mode": {
    "name": "ipython",
    "version": 3
   },
   "file_extension": ".py",
   "mimetype": "text/x-python",
   "name": "python",
   "nbconvert_exporter": "python",
   "pygments_lexer": "ipython3",
   "version": "3.5.2"
  }
 },
 "nbformat": 4,
 "nbformat_minor": 0
}
