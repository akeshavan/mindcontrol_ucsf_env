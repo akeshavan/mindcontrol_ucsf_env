{
 "cells": [
  {
   "cell_type": "markdown",
   "metadata": {},
   "source": [
    "# Mindboggle Outputs to Mindcontrol"
   ]
  },
  {
   "cell_type": "markdown",
   "metadata": {},
   "source": [
    "gist_to: https://gist.github.com/156e9d479d1f72e7656463843af8fd6d"
   ]
  },
  {
   "cell_type": "code",
   "execution_count": 71,
   "metadata": {
    "collapsed": false
   },
   "outputs": [],
   "source": [
    "#%pylab inline\n",
    "from nipype.utils.filemanip import load_json, save_json\n",
    "from glob import glob \n",
    "import os\n",
    "from os.path import join, split, exists\n",
    "from pbr.config import config as cc\n",
    "import pandas as pd\n",
    "from copy import deepcopy"
   ]
  },
  {
   "cell_type": "markdown",
   "metadata": {},
   "source": [
    "## Functions"
   ]
  },
  {
   "cell_type": "code",
   "execution_count": 3,
   "metadata": {
    "collapsed": false
   },
   "outputs": [],
   "source": [
    "def get_status_file(pipeline, mse, outdir):\n",
    "    folder = join(outdir, mse, pipeline, \"status.json\")\n",
    "    if not exists(folder):\n",
    "        #print(\"file not found\", mse)\n",
    "        return None\n",
    "    status = load_json(folder)\n",
    "\n",
    "    return status"
   ]
  },
  {
   "cell_type": "code",
   "execution_count": 4,
   "metadata": {
    "collapsed": true
   },
   "outputs": [],
   "source": [
    "def get_name_from_mindboggle_output(fname):\n",
    "    return fname.split(\"/\")[-3]"
   ]
  },
  {
   "cell_type": "code",
   "execution_count": 5,
   "metadata": {
    "collapsed": true
   },
   "outputs": [],
   "source": [
    "def get_t1(name,mse, outdir):\n",
    "    nii_file = join(outdir, mse, \"nii\",name+\".nii.gz\")\n",
    "    if exists(nii_file):\n",
    "        return nii_file\n",
    "    else:\n",
    "        raise Exception(\"ERROR: file not found\", mse)"
   ]
  },
  {
   "cell_type": "code",
   "execution_count": 6,
   "metadata": {
    "collapsed": true
   },
   "outputs": [],
   "source": [
    "def relative_path(x, mse):\n",
    "    foo = x.split(\"/\"+mse+\"/\")[-1]\n",
    "    return join(mse, foo)"
   ]
  },
  {
   "cell_type": "code",
   "execution_count": 38,
   "metadata": {
    "collapsed": false
   },
   "outputs": [],
   "source": [
    "def create_mindboggle_entry(mse, outdir):\n",
    "    status = get_status_file(\"mindboggle\", mse, outdir)\n",
    "    if status is not None:\n",
    "        entries = []\n",
    "        init = {\"subject_id\": mse}\n",
    "        fs = status[\"hybrid_segmentation_fs\"]\n",
    "        ants = status[\"hybrid_segmentation_ants\"]\n",
    "        name = [get_name_from_mindboggle_output(f) for f in fs]\n",
    "        for i, n in enumerate(name):\n",
    "            entry = deepcopy(init)\n",
    "            entry[\"name\"] = n\n",
    "            entry[\"check_masks\"] = [relative_path(get_t1(n, mse, outdir), mse),\n",
    "                                    relative_path(ants[i], mse),\n",
    "                                    relative_path(fs[i], mse)]\n",
    "            entry[\"metrics\"] = status[\"metrics\"][i]\n",
    "            entry[\"entry_type\"] = \"mindboggle\"\n",
    "            entries.append(entry)\n",
    "        return entries"
   ]
  },
  {
   "cell_type": "code",
   "execution_count": 9,
   "metadata": {
    "collapsed": false
   },
   "outputs": [],
   "source": [
    "def create_alignment_entry(mse, outdir):\n",
    "    status = get_status_file(\"alignment\", mse, outdir)\n",
    "    if status is not None:\n",
    "        if \"t1_files\" in list(status.keys()):\n",
    "            paths = [relative_path(s, mse) for s in status[\"t1_files\"]] \\\n",
    "            + [relative_path(s, mse) for s in status[\"t2_files\"]] \\\n",
    "            + [relative_path(s, mse) for s in status[\"flair_files\"]] \\\n",
    "            + [relative_path(s, mse) for s in status[\"gad_files\"]] \n",
    "            entry = {}\n",
    "            entry[\"subject_id\"] = mse\n",
    "            entry[\"check_masks\"] = paths\n",
    "            entry[\"name\"] = paths[0].split(\"/\")[-1].split(\".nii.gz\")[0]\n",
    "            entry[\"entry_type\"] = \"align\"\n",
    "            return entry"
   ]
  },
  {
   "cell_type": "code",
   "execution_count": 63,
   "metadata": {
    "collapsed": true
   },
   "outputs": [],
   "source": [
    "def create_nifti_entry(mse, outdir):\n",
    "    #TODO: add metrics for nifti via pulse sequense params\n",
    "    status = get_status_file(\"nii\", mse, outdir)\n",
    "    if status is not None:\n",
    "        entries = [{\"check_masks\": [relative_path(x, mse)],\n",
    "                    \"name\": os.path.split(x)[-1].split(\".nii.gz\")[0],\n",
    "                    \"entry_type\":\"nifti\",\n",
    "                    \"subject_id\": mse} for x in status[\"nifti_files\"]]\n",
    "        return entries"
   ]
  },
  {
   "cell_type": "code",
   "execution_count": 36,
   "metadata": {
    "collapsed": true
   },
   "outputs": [],
   "source": [
    "def create_antsCT_entry(mse, outdir):\n",
    "    status = get_status_file(\"antsCT\", mse, outdir)\n",
    "    if status is not None:\n",
    "        t1_names = [q.split(\"/\")[-2] for q in status[\"BrainSegmentation\"]]\n",
    "        t1_files = [os.path.join(q.split(\"antsCT\")[0],\"nii\", t1_names[i]+\".nii.gz\")\n",
    "                    for i,q in enumerate(status[\"BrainSegmentation\"])]\n",
    "        if \"metrics\" in list(status.keys()):\n",
    "            entries = [{\"check_masks\": [relative_path(t1_files[i], mse),\n",
    "                                   relative_path(q, mse)],\n",
    "                   \"name\": t1_names[i],\n",
    "                    'entry_type': \"antsCT\",\n",
    "                        \"subject_id\": mse,\n",
    "                   \"metrics\": status[\"metrics\"][i]} for i, q in enumerate(status[\"BrainSegmentation\"])]\n",
    "            return entries"
   ]
  },
  {
   "cell_type": "code",
   "execution_count": 30,
   "metadata": {
    "collapsed": true
   },
   "outputs": [],
   "source": [
    "def create_freesurfer_entry(mse, outdir):\n",
    "    status = get_status_file(\"masks\", mse, outdir)\n",
    "    if status is not None:\n",
    "        t1_names = [q.split(\"/\")[-2] for q in status[\"aparc\"]]\n",
    "        t1_files = [q for i,q in enumerate(status[\"orig\"])]\n",
    "        if \"metrics\" in list(status.keys()):\n",
    "            entries = [{\"check_masks\": [relative_path(t1_files[i], mse),\n",
    "                                        relative_path(q, mse)],\n",
    "                       \"name\": t1_names[i],\n",
    "                       'entry_type': \"freesurfer\",\n",
    "                        \"subject_id\": mse,\n",
    "                       \"metrics\": status[\"metrics\"][i]} for i, q in enumerate(status[\"aparc\"])]\n",
    "            return entries"
   ]
  },
  {
   "cell_type": "code",
   "execution_count": 10,
   "metadata": {
    "collapsed": false
   },
   "outputs": [],
   "source": [
    "def get_mindboggle_info(mse, outdir, all_entries):\n",
    "    status = get_status_file(\"mindboggle\", mse, outdir)\n",
    "    if status is not None:\n",
    "        entries = create_mindboggle_entry(status, mse, outdir) #is a list\n",
    "        all_entries += entries"
   ]
  },
  {
   "cell_type": "code",
   "execution_count": 43,
   "metadata": {
    "collapsed": true
   },
   "outputs": [],
   "source": [
    "def get_collection(port=3001):\n",
    "    from pymongo import MongoClient\n",
    "    client = MongoClient(\"localhost\", port)\n",
    "    db =  client.meteor\n",
    "    collection = db.subjects\n",
    "    return collection, client"
   ]
  },
  {
   "cell_type": "code",
   "execution_count": 47,
   "metadata": {
    "collapsed": true
   },
   "outputs": [],
   "source": [
    "def update_db(meteor_port, entry):\n",
    "    coll, _ = get_collection(meteor_port + 1)\n",
    "    finder = {\"subject_id\": entry[\"subject_id\"], \n",
    "              \"entry_type\": entry[\"entry_type\"]}\n",
    "    if \"name\" in entry.keys():\n",
    "        finder[\"name\"] = entry[\"name\"]\n",
    "    coll.update_one(finder, {\"$set\": entry})"
   ]
  },
  {
   "cell_type": "code",
   "execution_count": 68,
   "metadata": {
    "collapsed": true
   },
   "outputs": [],
   "source": [
    "def get_all_entries(mse, outdir):\n",
    "    \"\"\"\n",
    "    Note: This doesn't update demographics, only PBR outputs\n",
    "    \"\"\"\n",
    "    folders = [split(q)[1] for q in glob(join(outdir, mse, \"*\"))]\n",
    "    print(folders)\n",
    "    entries = []\n",
    "    status_complete = []\n",
    "    for fol in folders:\n",
    "        if fol in pbr_folder_mapper.keys():\n",
    "            func= pbr_folder_mapper[fol]\n",
    "            to_add = func(mse, outdir)\n",
    "            if to_add:\n",
    "                entries += to_add\n",
    "                status_complete.append(fol)\n",
    "                \n",
    "    entries.append({\"subject_id\": mse, \"entry_type\": 'demographic', \"status\": status_complete})\n",
    "    return entries\n",
    "    "
   ]
  },
  {
   "cell_type": "code",
   "execution_count": 57,
   "metadata": {
    "collapsed": true
   },
   "outputs": [],
   "source": [
    "def update_db_entries(meteor_port, entries):\n",
    "    return [update_db(meteor_port, entry) for entry in entries]"
   ]
  },
  {
   "cell_type": "markdown",
   "metadata": {},
   "source": [
    "#### TODO: Talk to MSPacman for demographic info (dates)"
   ]
  },
  {
   "cell_type": "code",
   "execution_count": 8,
   "metadata": {
    "collapsed": false
   },
   "outputs": [],
   "source": [
    "def create_demographic_entry(mse, msid, demographics, study_tag):\n",
    "    entry = {}\n",
    "    entry[\"subject_id\"] = mse\n",
    "    entry[\"msid\"] = msid\n",
    "    entry[\"entry_type\"] = \"demographic\"\n",
    "    entry[\"Study Tag\"] = study_tag\n",
    "    entry[\"metrics\"] = {}\n",
    "    entry['metrics'][\"DCM_StudyDate\"] = int(demographics[demographics.mse==mse].date.values[0])\n",
    "    return entry"
   ]
  },
  {
   "cell_type": "markdown",
   "metadata": {},
   "source": [
    "## Globals"
   ]
  },
  {
   "cell_type": "code",
   "execution_count": 73,
   "metadata": {
    "collapsed": false
   },
   "outputs": [],
   "source": [
    "outdir = cc[\"output_directory\"]\n",
    "pbr_folder_mapper = {\n",
    "          \"nii\": create_nifti_entry, \n",
    "          \"masks\": create_freesurfer_entry, \n",
    "          \"antsCT\": create_antsCT_entry,\n",
    "          \"mindboggle\": create_mindboggle_entry,\n",
    "          \"alignment\": create_alignment_entry}"
   ]
  },
  {
   "cell_type": "code",
   "execution_count": 74,
   "metadata": {
    "collapsed": false
   },
   "outputs": [],
   "source": [
    "#get_all_entries(\"mse4400\", outdir)"
   ]
  },
  {
   "cell_type": "markdown",
   "metadata": {},
   "source": [
    "## Run "
   ]
  },
  {
   "cell_type": "code",
   "execution_count": 40,
   "metadata": {
    "collapsed": false
   },
   "outputs": [],
   "source": []
  },
  {
   "cell_type": "code",
   "execution_count": 70,
   "metadata": {
    "collapsed": false
   },
   "outputs": [
    {
     "data": {
      "text/plain": [
       "'for m in list(set(df.mse)):\\n    get_mindboggle_info(m, outdir, all_entries)\\n    msid = df[df.mse==m].msid.values[0]\\n    e = create_demographic_entry(m, msid, df, \"EPIC\")\\n    all_entries.append(e)\\n    e2 = create_alignment_entry(m, outdir)\\n    if e2:\\n        all_entries.append(e2)\\n        #print(\"added, \", m)'"
      ]
     },
     "execution_count": 70,
     "metadata": {},
     "output_type": "execute_result"
    }
   ],
   "source": [
    "\"\"\"for m in list(set(df.mse)):\n",
    "    get_mindboggle_info(m, outdir, all_entries)\n",
    "    msid = df[df.mse==m].msid.values[0]\n",
    "    e = create_demographic_entry(m, msid, df, \"EPIC\")\n",
    "    all_entries.append(e)\n",
    "    e2 = create_alignment_entry(m, outdir)\n",
    "    if e2:\n",
    "        all_entries.append(e2)\n",
    "        #print(\"added, \", m)\"\"\""
   ]
  },
  {
   "cell_type": "code",
   "execution_count": 59,
   "metadata": {
    "collapsed": false
   },
   "outputs": [],
   "source": [
    "#save_json(\"/data/henry7/PBR/subjects/database/mindcontrol_initial_data.json\", all_entries)"
   ]
  },
  {
   "cell_type": "code",
   "execution_count": null,
   "metadata": {
    "collapsed": true
   },
   "outputs": [],
   "source": []
  }
 ],
 "metadata": {
  "kernelspec": {
   "display_name": "Python 3",
   "language": "python",
   "name": "python3"
  },
  "language_info": {
   "codemirror_mode": {
    "name": "ipython",
    "version": 3
   },
   "file_extension": ".py",
   "mimetype": "text/x-python",
   "name": "python",
   "nbconvert_exporter": "python",
   "pygments_lexer": "ipython3",
   "version": "3.5.2"
  }
 },
 "nbformat": 4,
 "nbformat_minor": 0
}
